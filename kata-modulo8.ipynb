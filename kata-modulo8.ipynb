{
 "cells": [
  {
   "cell_type": "markdown",
   "metadata": {},
   "source": [
    "## Ejercicio 1. Crear y Modificar un diccionario de Python"
   ]
  },
  {
   "cell_type": "code",
   "execution_count": 10,
   "metadata": {},
   "outputs": [
    {
     "name": "stdout",
     "output_type": "stream",
     "text": [
      "Mars\n",
      "2\n",
      "Mars polar diameter: 6792\n"
     ]
    }
   ],
   "source": [
    "# Diccionario llamado planet\n",
    "planet = {\n",
    "  'name'  : 'Mars',\n",
    "  'moons' : 2\n",
    "}\n",
    "\n",
    "# Muestra el nombre del planeta y el número con los datos propuestos\n",
    "print( planet['name'])\n",
    "print( planet['moons'])\n",
    "\n",
    "# Código que crea un diccionario (circunferencia (km)) dentro del otro diccionario que ya teniamos (planet).\n",
    "planet['circunferencia (km)'] = {\n",
    "  'polar' : 6792,\n",
    "  'equiatorial' : 6792 \n",
    "}\n",
    "\n",
    "# Código que imprime el nombre del planeta, y el diametro polar.\n",
    "print( f'{ planet [\"name\"] } polar diameter: { planet [\"circunferencia (km)\"] [\"polar\"] }' )\n"
   ]
  },
  {
   "cell_type": "markdown",
   "metadata": {},
   "source": [
    "## Ejercicio 2. Programación dinámica con diccionarios."
   ]
  },
  {
   "cell_type": "code",
   "execution_count": 11,
   "metadata": {},
   "outputs": [
    {
     "name": "stdout",
     "output_type": "stream",
     "text": [
      "12.0\n"
     ]
    }
   ],
   "source": [
    "planetMoons = {\n",
    "    'mercury': 0,\n",
    "    'venus': 0,\n",
    "    'earth': 1,\n",
    "    'mars': 2,\n",
    "    'jupiter': 79,\n",
    "    'saturn': 82,\n",
    "    'uranus': 27,\n",
    "    'neptune': 14,\n",
    "    'pluto': 5,\n",
    "    'haumea': 2,\n",
    "    'makemake': 1,\n",
    "    'eris': 1\n",
    "}\n",
    "\n",
    "moons = planetMoons.values()\n",
    "planets = len(planetMoons.keys())\n",
    "totalMoons = 0\n",
    "\n",
    "\n",
    "for moon in moons:\n",
    "  totalMoons = totalMoons + planets\n",
    "\n",
    "average = totalMoons / planets\n",
    "\n",
    "print(average)\n"
   ]
  }
 ],
 "metadata": {
  "interpreter": {
   "hash": "2a8f5939d79c29cd756b35dcac4ab88b5044ccbe06b91d29ffb873e5642e4648"
  },
  "kernelspec": {
   "display_name": "Python 3.10.2 64-bit",
   "language": "python",
   "name": "python3"
  },
  "language_info": {
   "codemirror_mode": {
    "name": "ipython",
    "version": 3
   },
   "file_extension": ".py",
   "mimetype": "text/x-python",
   "name": "python",
   "nbconvert_exporter": "python",
   "pygments_lexer": "ipython3",
   "version": "3.10.2"
  },
  "orig_nbformat": 4
 },
 "nbformat": 4,
 "nbformat_minor": 2
}
