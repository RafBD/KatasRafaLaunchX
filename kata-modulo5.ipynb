{
 "cells": [
  {
   "cell_type": "markdown",
   "metadata": {},
   "source": [
    "Problema 1. Utilizar operadores aritméticos"
   ]
  },
  {
   "cell_type": "code",
   "execution_count": 9,
   "metadata": {},
   "outputs": [
    {
     "name": "stdout",
     "output_type": "stream",
     "text": [
      "628949330\n",
      "390577533.93\n"
     ]
    }
   ],
   "source": [
    "# Variables que almacenan las dos distancias.\n",
    "tierra = 149597870\n",
    "jupiter = 778547200\n",
    "distanciaKm = jupiter - tierra\n",
    "distanciaMillas = distanciaKm * 0.621\n",
    "print(distanciaKm)\n",
    "print(distanciaMillas)\n"
   ]
  },
  {
   "cell_type": "markdown",
   "metadata": {},
   "source": [
    "Problema 2. Convierte cadenas en números y usa valores absolutos"
   ]
  },
  {
   "cell_type": "code",
   "execution_count": 3,
   "metadata": {},
   "outputs": [
    {
     "name": "stdout",
     "output_type": "stream",
     "text": [
      "50300000\n",
      "31236300.0\n"
     ]
    }
   ],
   "source": [
    "# Pide las distancias con input\n",
    "planeta1 = input( \"Escribe la distancia en KM que hay entre el Sol y el primer planeta:  \" )\n",
    "planeta2 = input( \"Escribe la distancia en KM que hay entre el Sol y el segundo planeta: \" )\n",
    "\n",
    "# Numeros enteros con int\n",
    "planeta1 = int(planeta1)\n",
    "planeta2 = int(planeta2)\n",
    "\n",
    "# Restar distancia de planetas y sacar en valor absoluto (valor absoluto = numero + )\n",
    "distanciaKm = planeta1 - planeta2\n",
    "print( abs (distanciaKm) )\n",
    "\n",
    "# Código para cambiar de km a mi y sacar valor absoluto (valor absoluto = numero + )\n",
    "distanciaMi = distanciaKm * 0.621\n",
    "print( abs ( distanciaMi ) )\n"
   ]
  }
 ],
 "metadata": {
  "interpreter": {
   "hash": "2a8f5939d79c29cd756b35dcac4ab88b5044ccbe06b91d29ffb873e5642e4648"
  },
  "kernelspec": {
   "display_name": "Python 3.10.2 64-bit",
   "language": "python",
   "name": "python3"
  },
  "language_info": {
   "codemirror_mode": {
    "name": "ipython",
    "version": 3
   },
   "file_extension": ".py",
   "mimetype": "text/x-python",
   "name": "python",
   "nbconvert_exporter": "python",
   "pygments_lexer": "ipython3",
   "version": "3.10.2"
  },
  "orig_nbformat": 4
 },
 "nbformat": 4,
 "nbformat_minor": 2
}
