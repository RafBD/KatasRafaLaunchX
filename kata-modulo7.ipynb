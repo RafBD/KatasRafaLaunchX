{
 "cells": [
  {
   "cell_type": "markdown",
   "metadata": {},
   "source": [
    "## Ejercicio 1. Creacion de un bucle \"while\""
   ]
  },
  {
   "cell_type": "code",
   "execution_count": 44,
   "metadata": {},
   "outputs": [
    {
     "name": "stdout",
     "output_type": "stream",
     "text": [
      "Venus\n"
     ]
    }
   ],
   "source": [
    "newPlanet = ''  # Variable que guarda el texto\n",
    "planets = [] # Varibale que guarda la lista de lo que ingresa el usuario \n",
    "\n",
    "# Crear un ciclo while\n",
    "while newPlanet.lower() != 'done':\n",
    "  if newPlanet:\n",
    "    planets.append(newPlanet)\n",
    "  newPlanet = input('Nombre del planeta (cuando termines escribe la palabra \"done)')\n",
    "\n",
    "# Crear un ciclo for\n",
    "for planet in planets:\n",
    "  print(planet)"
   ]
  }
 ],
 "metadata": {
  "interpreter": {
   "hash": "2a8f5939d79c29cd756b35dcac4ab88b5044ccbe06b91d29ffb873e5642e4648"
  },
  "kernelspec": {
   "display_name": "Python 3.10.2 64-bit",
   "language": "python",
   "name": "python3"
  },
  "language_info": {
   "codemirror_mode": {
    "name": "ipython",
    "version": 3
   },
   "file_extension": ".py",
   "mimetype": "text/x-python",
   "name": "python",
   "nbconvert_exporter": "python",
   "pygments_lexer": "ipython3",
   "version": "3.10.2"
  },
  "orig_nbformat": 4
 },
 "nbformat": 4,
 "nbformat_minor": 2
}
