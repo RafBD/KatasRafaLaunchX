{
 "cells": [
  {
   "cell_type": "markdown",
   "metadata": {},
   "source": [
    "## Ejercicio 1. Uso de Funciones en Python"
   ]
  },
  {
   "cell_type": "code",
   "execution_count": 15,
   "metadata": {},
   "outputs": [
    {
     "name": "stdout",
     "output_type": "stream",
     "text": [
      "Fuel Report:\n",
      "  Promedio Total: 53.333333333333336%\n",
      "  Combustible 1: 30%\n",
      "  Combustible 2: 80%\n",
      "  Combustible 3: 50%\n",
      "  \n",
      "Fuel Report:\n",
      "    Total Average: 42.0%\n",
      "    Main tank: 15%\n",
      "    External tank: 64%\n",
      "    Hydrogen tank: 47% \n",
      "    \n"
     ]
    }
   ],
   "source": [
    "# Función con los tres combustibles.\n",
    "def informe(combustible1, combustible2, combustible3):\n",
    "  promedioCombustible = (combustible1 + combustible2 + combustible3) / 3\n",
    "  return f\"\"\"Fuel Report:\n",
    "  Promedio Total: {promedioCombustible}%\n",
    "  Combustible 1: {combustible1}%\n",
    "  Combustible 2: {combustible2}%\n",
    "  Combustible 3: {combustible3}%\n",
    "  \"\"\"\n",
    "\n",
    "print(informe (30, 80, 50) ) # Esto manda a llamar a la función\n",
    "\n",
    "# Crea una función promedio\n",
    "def promedio(values) :\n",
    "  total = sum(values)\n",
    "  numeroItems = len(values)\n",
    "  return total / numeroItems\n",
    "\n",
    "promedio([80, 85, 81])\n",
    "\n",
    "# Actualiza la función\n",
    "\n",
    "\n",
    "def informe(main_tank, external_tank, hydrogen_tank):\n",
    "    return f\"\"\"Fuel Report:\n",
    "    Total Average: {promedio ( [main_tank, external_tank, hydrogen_tank] ) }%\n",
    "    Main tank: {main_tank}%\n",
    "    External tank: {external_tank}%\n",
    "    Hydrogen tank: {hydrogen_tank}% \n",
    "    \"\"\"\n",
    "\n",
    "\n",
    "# Call the updated function again with different values\n",
    "print(informe(15, 64, 47))\n",
    "\n",
    "\n",
    "\n",
    "\n",
    "\n"
   ]
  },
  {
   "cell_type": "markdown",
   "metadata": {},
   "source": [
    "## Ejercicio 2. Trabajo con Argumentos de Palabra Clave"
   ]
  },
  {
   "cell_type": "code",
   "execution_count": 16,
   "metadata": {},
   "outputs": [
    {
     "name": "stdout",
     "output_type": "stream",
     "text": [
      "\n",
      "    Mission to Moon\n",
      "    Total travel time: 65 minutes\n",
      "    Total fuel left: 500000 gallons\n",
      "    \n",
      "\n",
      "    Mission to Moon\n",
      "    Total travel time: 76 minutes\n",
      "    Total fuel left: 500000\n",
      "    \n",
      "\n",
      "    Mission to Moon\n",
      "    Total travel time: 74 minutes\n",
      "    Total fuel left: 500000\n",
      "    main tank --> 300000 gallons left\n",
      "external tank --> 200000 gallons left\n",
      "\n"
     ]
    }
   ],
   "source": [
    "# Función con un informe preciso de la misión\n",
    "def reporteMision(preLanzamiento, tiempoVuelo, destino, tanqueExterno, tanqueInterno):\n",
    "    return f\"\"\"\n",
    "    Mission to {destino}\n",
    "    Total travel time: {preLanzamiento + tiempoVuelo} minutes\n",
    "    Total fuel left: {tanqueExterno + tanqueInterno} gallons\n",
    "    \"\"\"\n",
    "\n",
    "\n",
    "print(reporteMision(14, 51, \"Moon\", 200000, 300000))\n",
    "\n",
    "# Escribe tu nueva función\n",
    "def reporteMision(destino, *minutes, **fuel_reservoirs):\n",
    "    return f\"\"\"\n",
    "    Mission to {destino}\n",
    "    Total travel time: {sum(minutes)} minutes\n",
    "    Total fuel left: {sum(fuel_reservoirs.values())}\n",
    "    \"\"\"\n",
    "\n",
    "print(reporteMision(\"Moon\", 10, 15, 51, main=300000, external=200000))\n",
    "\n",
    "# Escribe tu nueva función\n",
    "def reporteMision(destino, *minutes, **fuel_reservoirs):\n",
    "    main_report = f\"\"\"\n",
    "    Mission to {destino}\n",
    "    Total travel time: {sum(minutes)} minutes\n",
    "    Total fuel left: {sum(fuel_reservoirs.values())}\n",
    "    \"\"\"\n",
    "    for tank_name, gallons in fuel_reservoirs.items():\n",
    "        main_report += f\"{tank_name} tank --> {gallons} gallons left\\n\"\n",
    "    return main_report\n",
    "\n",
    "\n",
    "print(reporteMision(\"Moon\", 8, 11, 55, main=300000, external=200000))\n"
   ]
  }
 ],
 "metadata": {
  "interpreter": {
   "hash": "2a8f5939d79c29cd756b35dcac4ab88b5044ccbe06b91d29ffb873e5642e4648"
  },
  "kernelspec": {
   "display_name": "Python 3.10.2 64-bit",
   "language": "python",
   "name": "python3"
  },
  "language_info": {
   "codemirror_mode": {
    "name": "ipython",
    "version": 3
   },
   "file_extension": ".py",
   "mimetype": "text/x-python",
   "name": "python",
   "nbconvert_exporter": "python",
   "pygments_lexer": "ipython3",
   "version": "3.10.2"
  },
  "orig_nbformat": 4
 },
 "nbformat": 4,
 "nbformat_minor": 2
}
