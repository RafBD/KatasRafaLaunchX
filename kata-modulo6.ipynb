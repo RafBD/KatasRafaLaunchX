{
 "cells": [
  {
   "cell_type": "markdown",
   "metadata": {},
   "source": [
    "## Ejercicio 1. Crear y usar listas de Python"
   ]
  },
  {
   "cell_type": "code",
   "execution_count": 79,
   "metadata": {},
   "outputs": [
    {
     "name": "stdout",
     "output_type": "stream",
     "text": [
      "['Mercury', 'Venus', 'Earth', 'Mars', 'Jupyter', 'Saturn', 'Uranus', 'Neptune']\n",
      "Actualmente hay 9 planetas en el sistema solar\n",
      "The last planet is:  Pluto\n"
     ]
    }
   ],
   "source": [
    "# Create a list with the eighth planets of the Solar System.\n",
    "planets = [ 'Mercury', 'Venus', 'Earth', 'Mars', 'Jupyter', 'Saturn', 'Uranus', 'Neptune' ]\n",
    "print(planets) # Print the list of planets\n",
    "\n",
    "# Add Pluto to the list of planets\n",
    "planets.append('Pluto')\n",
    "numberOfPlanets = len(planets)\n",
    "print('Actualmente hay', numberOfPlanets, 'planetas en el sistema solar')\n",
    "\n",
    "# Print the last planet in the list\n",
    "print('The last planet is: ', planets[-1])\n"
   ]
  },
  {
   "cell_type": "markdown",
   "metadata": {},
   "source": [
    "## Ejercicio 2. Trabajando con datos de una lista."
   ]
  },
  {
   "cell_type": "code",
   "execution_count": 38,
   "metadata": {},
   "outputs": [
    {
     "name": "stdout",
     "output_type": "stream",
     "text": [
      "1\n",
      "These planets are closer to the sun than Venus\n",
      "['Mercury']\n",
      "These planets are farther from the sun than Venus\n",
      "['Earth', 'Mars', 'Jupyter', 'Saturn', 'Uranus', 'Neptune']\n"
     ]
    }
   ],
   "source": [
    "# List of the planets\n",
    "planets = [ 'Mercury', 'Venus', 'Earth', 'Mars', 'Jupyter', 'Saturn', 'Uranus', 'Neptune' ]\n",
    "# Pide al usuario un planeta\n",
    "user = input( 'Write the name of the planet ( the first letter must be uppercase ) ' )\n",
    "\n",
    "# Busca si el planeta que ingreso el usuario esta en la lista\n",
    "findPlanet = planets.index( user )\n",
    "print( findPlanet ) # Imprime la ubicación del planeta que ingreso el usuario\n",
    "\n",
    "# Código para saber los planetas que están más cerca del Sol\n",
    "print( 'These planets are closer to the sun than ' + user )\n",
    "print( planets [0:findPlanet] )\n",
    "\n",
    "# Código para saber los planetas que están más cerca del Sol\n",
    "print( 'These planets are farther from the sun than ' + user )\n",
    "print( planets [findPlanet + 1:] )\n",
    "\n"
   ]
  }
 ],
 "metadata": {
  "interpreter": {
   "hash": "2a8f5939d79c29cd756b35dcac4ab88b5044ccbe06b91d29ffb873e5642e4648"
  },
  "kernelspec": {
   "display_name": "Python 3.10.2 64-bit",
   "language": "python",
   "name": "python3"
  },
  "language_info": {
   "codemirror_mode": {
    "name": "ipython",
    "version": 3
   },
   "file_extension": ".py",
   "mimetype": "text/x-python",
   "name": "python",
   "nbconvert_exporter": "python",
   "pygments_lexer": "ipython3",
   "version": "3.10.2"
  },
  "orig_nbformat": 4
 },
 "nbformat": 4,
 "nbformat_minor": 2
}
