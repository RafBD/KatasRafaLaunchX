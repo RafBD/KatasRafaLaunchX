{
 "cells": [
  {
   "cell_type": "markdown",
   "metadata": {},
   "source": [
    "Problema 1.\n",
    "Divide el texto"
   ]
  },
  {
   "cell_type": "code",
   "execution_count": 19,
   "metadata": {},
   "outputs": [
    {
     "name": "stdout",
     "output_type": "stream",
     "text": [
      " The Moon is Earth's only satellite\n",
      " \n",
      "      There are several interesting facts about the Moon and how it affects life here on Earth\n",
      " \n",
      "      This yearly drift is not significant enough to cause immediate effects on Earth\n",
      "\n",
      "      The highest daylight temperature of the Moon is 127 C\n",
      "Interesting facts about the Moon\n",
      " The Moon is Earth's only satellite\n",
      " \n",
      "      There are several interesting facts about the Moon and how it affects life here on Earth\n",
      " \n",
      "      This yearly drift is not significant enough to cause immediate effects on Earth\n",
      "\n",
      "      The highest daylight temperature of the Moon is 127 Celsius\n"
     ]
    }
   ],
   "source": [
    "\n",
    "# Texto que se utilizara\n",
    "text = \"\"\"Interesting facts about the Moon. The Moon is Earth's only satellite. \n",
    "      There are several interesting facts about the Moon and how it affects life here on Earth.\n",
    "      On average, the Moon moves 4cm away from the Earth every year. \n",
    "      This yearly drift is not significant enough to cause immediate effects on Earth.\n",
    "      The highest daylight temperature of the Moon is 127 C.\"\"\"\n",
    "\n",
    "# Codigo que divide el texto en oraciones\n",
    "textoDividido = text.split('.') # Esto lo que hace es dividir el texto cada que se encuentra un punto, es decir cuando termina una oración \n",
    "textoDividido # Esto lo que hace es como llamar a esa variable, sin esto no se muestra resultado de la división del texto.\n",
    "\n",
    "# Codigo para palabras clave\n",
    "palabrasClave = [ \"average\", \"temperature\", \"distance\"] # Esto es una lista\n",
    "\n",
    "\n",
    "\n"
   ]
  },
  {
   "cell_type": "markdown",
   "metadata": {},
   "source": [
    "Problema 2. Formateando cadenas"
   ]
  },
  {
   "cell_type": "code",
   "execution_count": 29,
   "metadata": {},
   "outputs": [
    {
     "data": {
      "text/plain": [
       "'Datos Sobre La Gravedad De Ganimedes'"
      ]
     },
     "execution_count": 29,
     "metadata": {},
     "output_type": "execute_result"
    }
   ],
   "source": [
    "name = \"Moon\"\n",
    "gravity = 0.00162 # in kms\n",
    "planet = \"Earth\"\n",
    "nombre = 'Ganimedes'\n",
    "\n",
    "# Crea el titulo\n",
    "titulo = f'datos sobre la gravedad de {nombre}'\n",
    "titulo.title()\n",
    "\n",
    "# Crea la plantilla\n",
    "\n"
   ]
  }
 ],
 "metadata": {
  "interpreter": {
   "hash": "2a8f5939d79c29cd756b35dcac4ab88b5044ccbe06b91d29ffb873e5642e4648"
  },
  "kernelspec": {
   "display_name": "Python 3.10.2 64-bit",
   "language": "python",
   "name": "python3"
  },
  "language_info": {
   "codemirror_mode": {
    "name": "ipython",
    "version": 3
   },
   "file_extension": ".py",
   "mimetype": "text/x-python",
   "name": "python",
   "nbconvert_exporter": "python",
   "pygments_lexer": "ipython3",
   "version": "3.10.2"
  },
  "orig_nbformat": 4
 },
 "nbformat": 4,
 "nbformat_minor": 2
}
