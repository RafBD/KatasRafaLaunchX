{
 "cells": [
  {
   "cell_type": "markdown",
   "metadata": {},
   "source": [
    "Problema 1"
   ]
  },
  {
   "cell_type": "code",
   "execution_count": 13,
   "metadata": {},
   "outputs": [
    {
     "name": "stdout",
     "output_type": "stream",
     "text": [
      "Peligro, se acerca un asteroide a alta velocidad :O\n"
     ]
    }
   ],
   "source": [
    "asteroideVelocidad = 49 # Esta es la velocidad del asteroide\n",
    "\n",
    "if asteroideVelocidad > 25: # Esta dice que si la velocidad del asteroide es mayor a 25 mandará una advertencia\n",
    "  print( \"Peligro, se acerca un asteroide a alta velocidad :O\") # Esta es la alerta de emergencia\n",
    "else: # Esto significa quu es lo que pasa si no se cumple la primera condición\n",
    "  print(\" Actualmente no hay peligro\") # Esta es la alerta que se ejecuta si la velocidad es menor a 25\n"
   ]
  },
  {
   "cell_type": "markdown",
   "metadata": {},
   "source": [
    "Problema 2"
   ]
  },
  {
   "cell_type": "code",
   "execution_count": 56,
   "metadata": {},
   "outputs": [
    {
     "name": "stdout",
     "output_type": "stream",
     "text": [
      "No es posible ver el rayo de luz\n"
     ]
    }
   ],
   "source": [
    "asteroide = 19\n",
    "if asteroide >= 20:\n",
    "  print( \"Es posible ver el rayo de luz\")\n",
    "else: \n",
    "  print( \"No es posible ver el rayo de luz\")"
   ]
  },
  {
   "cell_type": "markdown",
   "metadata": {},
   "source": [
    "Problema 3"
   ]
  },
  {
   "cell_type": "code",
   "execution_count": 5,
   "metadata": {},
   "outputs": [
    {
     "name": "stdout",
     "output_type": "stream",
     "text": [
      "PELIGRO!!! A refugiarse. Se acerca un asteroide MUUUY Carajo 😱😨\n"
     ]
    }
   ],
   "source": [
    "asteroidSpeed = 20\n",
    "asteroidSize = 26\n",
    "\n",
    "if asteroidSpeed > 25 or asteroidSize > 25:\n",
    "  print(\"PELIGRO!!! A refugiarse. Se acerca un asteroide MUUUY Carajo 😱😨\")\n",
    "elif asteroidSpeed >= 20:\n",
    "  print( \"Miren todos!!! Hay una luz en el cielo 😍\" ) \n",
    "elif asteroidSize < 25:\n",
    "  print( \"No hay peligro 🤪\" )\n",
    "else:\n",
    "  print( \"No hay peligro. 🤗\" )\n"
   ]
  }
 ],
 "metadata": {
  "interpreter": {
   "hash": "2a8f5939d79c29cd756b35dcac4ab88b5044ccbe06b91d29ffb873e5642e4648"
  },
  "kernelspec": {
   "display_name": "Python 3.10.2 64-bit",
   "language": "python",
   "name": "python3"
  },
  "language_info": {
   "codemirror_mode": {
    "name": "ipython",
    "version": 3
   },
   "file_extension": ".py",
   "mimetype": "text/x-python",
   "name": "python",
   "nbconvert_exporter": "python",
   "pygments_lexer": "ipython3",
   "version": "3.10.2"
  },
  "orig_nbformat": 4
 },
 "nbformat": 4,
 "nbformat_minor": 2
}
